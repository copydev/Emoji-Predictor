{
 "cells": [
  {
   "cell_type": "markdown",
   "metadata": {},
   "source": [
    "## Emoji Predictor"
   ]
  },
  {
   "cell_type": "code",
   "execution_count": 1,
   "metadata": {},
   "outputs": [
    {
     "name": "stdout",
     "output_type": "stream",
     "text": [
      "Collecting emoji\n",
      "  Downloading emoji-0.5.4.tar.gz (43 kB)\n",
      "\u001b[K     |████████████████████████████████| 43 kB 118 kB/s eta 0:00:01\n",
      "\u001b[?25hBuilding wheels for collected packages: emoji\n",
      "  Building wheel for emoji (setup.py) ... \u001b[?25ldone\n",
      "\u001b[?25h  Created wheel for emoji: filename=emoji-0.5.4-py3-none-any.whl size=42175 sha256=b6e0dc0174c93c789a3ba66cfdb214be77660e474d3cd070414dc77eebb12895\n",
      "  Stored in directory: /home/golu/.cache/pip/wheels/f6/65/82/d742fe456cd8aa21ffe6c4c1eaeedf3c2d430689811bf328e1\n",
      "Successfully built emoji\n",
      "Installing collected packages: emoji\n",
      "Successfully installed emoji-0.5.4\n",
      "Note: you may need to restart the kernel to use updated packages.\n"
     ]
    }
   ],
   "source": [
    "#pip install emoji"
   ]
  },
  {
   "cell_type": "code",
   "execution_count": 1,
   "metadata": {},
   "outputs": [],
   "source": [
    "import emoji"
   ]
  },
  {
   "cell_type": "code",
   "execution_count": 2,
   "metadata": {},
   "outputs": [],
   "source": [
    "#emoji.EMOJI_UNICODE"
   ]
  },
  {
   "cell_type": "code",
   "execution_count": 3,
   "metadata": {},
   "outputs": [],
   "source": [
    "emoji_dictionary = {\n",
    "    \"0\": \"\\u2764\\uFE0F\",\n",
    "    \"1\": \":baseball:\",\n",
    "    \"2\": \":grinning_face_with_big_eyes:\",\n",
    "    \"3\": \":disappointed_face:\",\n",
    "    \"4\": \":fork_and_knife:\",\n",
    "    \"5\": \":hundred_points:\",\n",
    "    \"6\": \":fire:\",\n",
    "    \"7\": \":face_blowing_a_kiss:\",\n",
    "    \"8\": \":chestnut:\",\n",
    "    \"9\": \":flexed_biceps:\"\n",
    "}"
   ]
  },
  {
   "cell_type": "code",
   "execution_count": 4,
   "metadata": {},
   "outputs": [
    {
     "name": "stdout",
     "output_type": "stream",
     "text": [
      "❤️\n",
      "⚾\n",
      "😃\n",
      "😞\n",
      "🍴\n",
      "💯\n",
      "🔥\n",
      "😘\n",
      "🌰\n",
      "💪\n"
     ]
    }
   ],
   "source": [
    "for e in emoji_dictionary.values():\n",
    "    print(emoji.emojize(e))"
   ]
  },
  {
   "cell_type": "markdown",
   "metadata": {},
   "source": [
    "## Step with a custom dataset"
   ]
  },
  {
   "cell_type": "code",
   "execution_count": 5,
   "metadata": {},
   "outputs": [],
   "source": [
    "import pandas as pd\n",
    "import numpy as np"
   ]
  },
  {
   "cell_type": "code",
   "execution_count": 6,
   "metadata": {},
   "outputs": [],
   "source": [
    "train = pd.read_csv('train_emoji.csv',header = None)\n",
    "test = pd.read_csv('test_emoji.csv',header = None)"
   ]
  },
  {
   "cell_type": "code",
   "execution_count": 7,
   "metadata": {},
   "outputs": [
    {
     "data": {
      "text/html": [
       "<div>\n",
       "<style scoped>\n",
       "    .dataframe tbody tr th:only-of-type {\n",
       "        vertical-align: middle;\n",
       "    }\n",
       "\n",
       "    .dataframe tbody tr th {\n",
       "        vertical-align: top;\n",
       "    }\n",
       "\n",
       "    .dataframe thead th {\n",
       "        text-align: right;\n",
       "    }\n",
       "</style>\n",
       "<table border=\"1\" class=\"dataframe\">\n",
       "  <thead>\n",
       "    <tr style=\"text-align: right;\">\n",
       "      <th></th>\n",
       "      <th>0</th>\n",
       "      <th>1</th>\n",
       "      <th>2</th>\n",
       "      <th>3</th>\n",
       "    </tr>\n",
       "  </thead>\n",
       "  <tbody>\n",
       "    <tr>\n",
       "      <th>0</th>\n",
       "      <td>never talk to me again</td>\n",
       "      <td>3</td>\n",
       "      <td>NaN</td>\n",
       "      <td>NaN</td>\n",
       "    </tr>\n",
       "    <tr>\n",
       "      <th>1</th>\n",
       "      <td>I am proud of your achievements</td>\n",
       "      <td>2</td>\n",
       "      <td>NaN</td>\n",
       "      <td>NaN</td>\n",
       "    </tr>\n",
       "    <tr>\n",
       "      <th>2</th>\n",
       "      <td>It is the worst day in my life</td>\n",
       "      <td>3</td>\n",
       "      <td>NaN</td>\n",
       "      <td>NaN</td>\n",
       "    </tr>\n",
       "    <tr>\n",
       "      <th>3</th>\n",
       "      <td>Miss you so much</td>\n",
       "      <td>0</td>\n",
       "      <td>NaN</td>\n",
       "      <td>[0]</td>\n",
       "    </tr>\n",
       "    <tr>\n",
       "      <th>4</th>\n",
       "      <td>food is life</td>\n",
       "      <td>4</td>\n",
       "      <td>NaN</td>\n",
       "      <td>NaN</td>\n",
       "    </tr>\n",
       "  </tbody>\n",
       "</table>\n",
       "</div>"
      ],
      "text/plain": [
       "                                 0  1   2     3\n",
       "0           never talk to me again  3 NaN   NaN\n",
       "1  I am proud of your achievements  2 NaN   NaN\n",
       "2   It is the worst day in my life  3 NaN   NaN\n",
       "3                 Miss you so much  0 NaN   [0]\n",
       "4                     food is life  4 NaN   NaN"
      ]
     },
     "execution_count": 7,
     "metadata": {},
     "output_type": "execute_result"
    }
   ],
   "source": [
    "train.head()"
   ]
  },
  {
   "cell_type": "code",
   "execution_count": 8,
   "metadata": {},
   "outputs": [
    {
     "name": "stdout",
     "output_type": "stream",
     "text": [
      "(132, 4)\n",
      "(56, 2)\n"
     ]
    }
   ],
   "source": [
    "# Lets print sentences with emojis\n",
    "# data = train.values\n",
    "# print(data.shape)\n",
    "# data_t = test.values\n",
    "# print(data_t.shape)"
   ]
  },
  {
   "cell_type": "code",
   "execution_count": 19,
   "metadata": {},
   "outputs": [],
   "source": [
    "x_train = train[0]\n",
    "y_train = train[1]\n",
    "\n",
    "x_test = test[0]\n",
    "y_test = test[1]"
   ]
  },
  {
   "cell_type": "code",
   "execution_count": 42,
   "metadata": {},
   "outputs": [],
   "source": [
    "y_train = train[1]\n",
    "y_test = test[1]"
   ]
  },
  {
   "cell_type": "code",
   "execution_count": 20,
   "metadata": {},
   "outputs": [
    {
     "name": "stdout",
     "output_type": "stream",
     "text": [
      "never talk to me again 😞\n",
      "I am proud of your achievements 😃\n",
      "It is the worst day in my life 😞\n",
      "Miss you so much ❤️\n",
      "food is life 🍴\n"
     ]
    }
   ],
   "source": [
    "for i in range(5):\n",
    "    print(x_train[i],emoji.emojize(emoji_dictionary[str(y_train[i])]))"
   ]
  },
  {
   "cell_type": "code",
   "execution_count": 78,
   "metadata": {},
   "outputs": [],
   "source": [
    "## use glove vectors"
   ]
  },
  {
   "cell_type": "code",
   "execution_count": null,
   "metadata": {},
   "outputs": [],
   "source": []
  },
  {
   "cell_type": "code",
   "execution_count": 21,
   "metadata": {},
   "outputs": [],
   "source": [
    "f = open('glove.6B.50d.txt',encoding='utf-8')"
   ]
  },
  {
   "cell_type": "code",
   "execution_count": 22,
   "metadata": {},
   "outputs": [],
   "source": [
    "embeddings_index = {}\n",
    "for line in f:\n",
    "    values = line.split()\n",
    "    word = values[0]\n",
    "    coefs = np.asarray(values[1:],dtype='float')\n",
    "    embeddings_index[word] = coefs\n",
    "#     print(word,coefs)\n",
    "#     break"
   ]
  },
  {
   "cell_type": "code",
   "execution_count": 23,
   "metadata": {},
   "outputs": [],
   "source": [
    "f.close()"
   ]
  },
  {
   "cell_type": "code",
   "execution_count": 24,
   "metadata": {},
   "outputs": [
    {
     "data": {
      "text/plain": [
       "(50,)"
      ]
     },
     "execution_count": 24,
     "metadata": {},
     "output_type": "execute_result"
    }
   ],
   "source": [
    "embeddings_index[\"eat\"].shape"
   ]
  },
  {
   "cell_type": "code",
   "execution_count": 25,
   "metadata": {},
   "outputs": [],
   "source": [
    "def embedding_output(X):\n",
    "    maxlen = 10\n",
    "    emb_dim = 50\n",
    "    embedding_out = np.zeros((X.shape[0],maxlen,emb_dim))\n",
    "    \n",
    "    for ix in range(X.shape[0]):\n",
    "        X[ix] = X[ix].split()\n",
    "        for ij in range(len(X[ix])):\n",
    "            #go to every word of the sentance\n",
    "            embedding_out[ix][ij] = embeddings_index.get(X[ix][ij].lower(),np.zeros((50,)));\n",
    "    return embedding_out\n",
    "    "
   ]
  },
  {
   "cell_type": "code",
   "execution_count": 26,
   "metadata": {},
   "outputs": [
    {
     "name": "stderr",
     "output_type": "stream",
     "text": [
      "/home/golu/anaconda3/lib/python3.7/site-packages/ipykernel_launcher.py:7: SettingWithCopyWarning: \n",
      "A value is trying to be set on a copy of a slice from a DataFrame\n",
      "\n",
      "See the caveats in the documentation: http://pandas.pydata.org/pandas-docs/stable/indexing.html#indexing-view-versus-copy\n",
      "  import sys\n"
     ]
    }
   ],
   "source": [
    "embedding_matrix_train = embedding_output(x_train)\n",
    "embedding_matrix_test = embedding_output(x_test)"
   ]
  },
  {
   "cell_type": "code",
   "execution_count": 27,
   "metadata": {},
   "outputs": [
    {
     "data": {
      "text/plain": [
       "(132, 10, 50)"
      ]
     },
     "execution_count": 27,
     "metadata": {},
     "output_type": "execute_result"
    }
   ],
   "source": [
    "embedding_matrix_train.shape"
   ]
  },
  {
   "cell_type": "code",
   "execution_count": 28,
   "metadata": {},
   "outputs": [
    {
     "data": {
      "text/plain": [
       "(56, 10, 50)"
      ]
     },
     "execution_count": 28,
     "metadata": {},
     "output_type": "execute_result"
    }
   ],
   "source": [
    "embedding_matrix_test.shape"
   ]
  },
  {
   "cell_type": "code",
   "execution_count": 29,
   "metadata": {},
   "outputs": [
    {
     "data": {
      "text/plain": [
       "0                           [never, talk, to, me, again]\n",
       "1                 [I, am, proud, of, your, achievements]\n",
       "2                [It, is, the, worst, day, in, my, life]\n",
       "3                                  [Miss, you, so, much]\n",
       "4                                       [food, is, life]\n",
       "5                                    [I, love, you, mum]\n",
       "6                               [Stop, saying, bullshit]\n",
       "7                [congratulations, on, your, acceptance]\n",
       "8                       [The, assignment, is, too, long]\n",
       "9                                [I, want, to, go, play]\n",
       "10                     [she, did, not, answer, my, text]\n",
       "11                     [Your, stupidity, has, no, limit]\n",
       "12                   [how, many, points, did, he, score]\n",
       "13                     [my, algorithm, performs, poorly]\n",
       "14                                    [I, got, approved]\n",
       "15                              [Stop, shouting, at, me]\n",
       "16                  [Sounds, like, a, fun, plan, ha, ha]\n",
       "17                                 [no, one, likes, him]\n",
       "18                           [the, game, just, finished]\n",
       "19                            [I, will, celebrate, soon]\n",
       "20                      [So, sad, you, are, not, coming]\n",
       "21                          [She, is, my, dearest, love]\n",
       "22                                           [Good, job]\n",
       "23                                 [It, was, funny, lol]\n",
       "24                                     [candy, is, life]\n",
       "25                      [The, chicago, cubs, won, again]\n",
       "26                                       [I, am, hungry]\n",
       "27     [I, am, so, excited, to, see, you, after, so, ...\n",
       "28                       [you, did, well, on, you, exam]\n",
       "29                             [lets, brunch, some, day]\n",
       "                             ...                        \n",
       "102                                         [Good, joke]\n",
       "103                    [This, specialization, is, great]\n",
       "104                         [you, could, not, solve, it]\n",
       "105                         [I, am, so, happy, for, you]\n",
       "106                        [Congrats, on, the, new, job]\n",
       "107                     [I, am, proud, of, you, forever]\n",
       "108                                   [I, want, to, eat]\n",
       "109                               [That, catcher, sucks]\n",
       "110              [The, first, base, man, got, the, ball]\n",
       "111                                      [this, is, bad]\n",
       "112                  [you, did, not, do, your, homework]\n",
       "113                     [I, will, have, a, cheese, cake]\n",
       "114                             [do, you, have, a, ball]\n",
       "115                  [the, lectures, are, great, though]\n",
       "116     [Are, you, down, for, baseball, this, afternoon]\n",
       "117               [what, are, the, rules, of, the, game]\n",
       "118                             [I, am, always, working]\n",
       "119                            [where, is, the, stadium]\n",
       "120    [She, is, the, cutest, person, I, have, ever, ...\n",
       "121                           [vegetables, are, healthy]\n",
       "122                                   [he, is, handsome]\n",
       "123               [too, bad, that, you, were, not, here]\n",
       "124                                 [you, are, a, loser]\n",
       "125                              [I, love, indian, food]\n",
       "126                  [Who, is, down, for, a, restaurant]\n",
       "127                    [he, had, to, make, a, home, run]\n",
       "128                              [I, am, ordering, food]\n",
       "129                         [What, is, wrong, with, you]\n",
       "130                                       [I, love, you]\n",
       "131                                         [great, job]\n",
       "Name: 0, Length: 132, dtype: object"
      ]
     },
     "execution_count": 29,
     "metadata": {},
     "output_type": "execute_result"
    }
   ],
   "source": [
    "x_train"
   ]
  },
  {
   "cell_type": "code",
   "execution_count": 37,
   "metadata": {},
   "outputs": [
    {
     "data": {
      "text/plain": [
       "(132,)"
      ]
     },
     "execution_count": 37,
     "metadata": {},
     "output_type": "execute_result"
    }
   ],
   "source": [
    "y_train.shape"
   ]
  },
  {
   "cell_type": "code",
   "execution_count": 38,
   "metadata": {},
   "outputs": [],
   "source": [
    "from keras.utils import to_categorical"
   ]
  },
  {
   "cell_type": "code",
   "execution_count": 43,
   "metadata": {},
   "outputs": [],
   "source": [
    "y_train = to_categorical(y_train,num_classes=5)\n",
    "y_test = to_categorical(y_test,num_classes=5)"
   ]
  },
  {
   "cell_type": "code",
   "execution_count": 45,
   "metadata": {},
   "outputs": [
    {
     "data": {
      "text/plain": [
       "array([0., 0., 0., 1., 0.], dtype=float32)"
      ]
     },
     "execution_count": 45,
     "metadata": {},
     "output_type": "execute_result"
    }
   ],
   "source": [
    "y_train[0]"
   ]
  },
  {
   "cell_type": "markdown",
   "metadata": {},
   "source": [
    "## define rnn and lstm"
   ]
  },
  {
   "cell_type": "code",
   "execution_count": 34,
   "metadata": {},
   "outputs": [],
   "source": [
    "import keras\n",
    "from keras.models import Sequential\n",
    "from keras.layers import *"
   ]
  },
  {
   "cell_type": "code",
   "execution_count": 78,
   "metadata": {},
   "outputs": [
    {
     "name": "stdout",
     "output_type": "stream",
     "text": [
      "Model: \"sequential_7\"\n",
      "_________________________________________________________________\n",
      "Layer (type)                 Output Shape              Param #   \n",
      "=================================================================\n",
      "lstm_8 (LSTM)                (None, 10, 64)            29440     \n",
      "_________________________________________________________________\n",
      "dropout_8 (Dropout)          (None, 10, 64)            0         \n",
      "_________________________________________________________________\n",
      "lstm_9 (LSTM)                (None, 64)                33024     \n",
      "_________________________________________________________________\n",
      "dropout_9 (Dropout)          (None, 64)                0         \n",
      "_________________________________________________________________\n",
      "dense_6 (Dense)              (None, 5)                 325       \n",
      "_________________________________________________________________\n",
      "activation_6 (Activation)    (None, 5)                 0         \n",
      "=================================================================\n",
      "Total params: 62,789\n",
      "Trainable params: 62,789\n",
      "Non-trainable params: 0\n",
      "_________________________________________________________________\n"
     ]
    }
   ],
   "source": [
    "model = Sequential()\n",
    "model.add(LSTM(64,input_shape=(10,50),return_sequences=True))\n",
    "model.add(Dropout(0.5))\n",
    "model.add(LSTM(64,return_sequences=False))\n",
    "model.add(Dropout(0.5))\n",
    "model.add(Dense(5))\n",
    "model.add(Activation('softmax'))\n",
    "model.compile(loss='categorical_crossentropy',optimizer='adam',metrics=['accuracy'])\n",
    "model.summary()"
   ]
  },
  {
   "cell_type": "code",
   "execution_count": 79,
   "metadata": {},
   "outputs": [],
   "source": [
    "from keras.callbacks import EarlyStopping\n",
    "from keras.callbacks import ModelCheckpoint\n",
    "\n",
    "checkpoint = ModelCheckpoint(\"best_model.h5\",monitor=\"val_loss\",verbose=True,save_best_only=True)\n",
    "earlystop = EarlyStopping(monitor = 'val_accuracy',patience=10)\n",
    "\n",
    "cb_list = [checkpoint, earlystop]"
   ]
  },
  {
   "cell_type": "code",
   "execution_count": 80,
   "metadata": {},
   "outputs": [
    {
     "name": "stdout",
     "output_type": "stream",
     "text": [
      "Train on 105 samples, validate on 27 samples\n",
      "Epoch 1/100\n",
      "105/105 [==============================] - 1s 10ms/step - loss: 1.6378 - accuracy: 0.1905 - val_loss: 1.6121 - val_accuracy: 0.1852\n",
      "\n",
      "Epoch 00001: val_loss improved from inf to 1.61207, saving model to best_model.h5\n",
      "Epoch 2/100\n",
      "105/105 [==============================] - 0s 321us/step - loss: 1.5707 - accuracy: 0.2857 - val_loss: 1.6214 - val_accuracy: 0.1852\n",
      "\n",
      "Epoch 00002: val_loss did not improve from 1.61207\n",
      "Epoch 3/100\n",
      "105/105 [==============================] - 0s 326us/step - loss: 1.5394 - accuracy: 0.2571 - val_loss: 1.6269 - val_accuracy: 0.2222\n",
      "\n",
      "Epoch 00003: val_loss did not improve from 1.61207\n",
      "Epoch 4/100\n",
      "105/105 [==============================] - 0s 413us/step - loss: 1.5384 - accuracy: 0.2667 - val_loss: 1.6336 - val_accuracy: 0.2593\n",
      "\n",
      "Epoch 00004: val_loss did not improve from 1.61207\n",
      "Epoch 5/100\n",
      "105/105 [==============================] - 0s 404us/step - loss: 1.4856 - accuracy: 0.3905 - val_loss: 1.6405 - val_accuracy: 0.2593\n",
      "\n",
      "Epoch 00005: val_loss did not improve from 1.61207\n",
      "Epoch 6/100\n",
      "105/105 [==============================] - 0s 459us/step - loss: 1.4693 - accuracy: 0.3524 - val_loss: 1.6452 - val_accuracy: 0.2593\n",
      "\n",
      "Epoch 00006: val_loss did not improve from 1.61207\n",
      "Epoch 7/100\n",
      "105/105 [==============================] - 0s 399us/step - loss: 1.4514 - accuracy: 0.4000 - val_loss: 1.6431 - val_accuracy: 0.2963\n",
      "\n",
      "Epoch 00007: val_loss did not improve from 1.61207\n",
      "Epoch 8/100\n",
      "105/105 [==============================] - 0s 374us/step - loss: 1.4376 - accuracy: 0.3714 - val_loss: 1.6395 - val_accuracy: 0.2963\n",
      "\n",
      "Epoch 00008: val_loss did not improve from 1.61207\n",
      "Epoch 9/100\n",
      "105/105 [==============================] - 0s 351us/step - loss: 1.3994 - accuracy: 0.3714 - val_loss: 1.6283 - val_accuracy: 0.2593\n",
      "\n",
      "Epoch 00009: val_loss did not improve from 1.61207\n",
      "Epoch 10/100\n",
      "105/105 [==============================] - 0s 337us/step - loss: 1.3815 - accuracy: 0.4286 - val_loss: 1.6007 - val_accuracy: 0.2593\n",
      "\n",
      "Epoch 00010: val_loss improved from 1.61207 to 1.60073, saving model to best_model.h5\n",
      "Epoch 11/100\n",
      "105/105 [==============================] - 0s 443us/step - loss: 1.3584 - accuracy: 0.3810 - val_loss: 1.5604 - val_accuracy: 0.2963\n",
      "\n",
      "Epoch 00011: val_loss improved from 1.60073 to 1.56037, saving model to best_model.h5\n",
      "Epoch 12/100\n",
      "105/105 [==============================] - 0s 356us/step - loss: 1.3494 - accuracy: 0.3714 - val_loss: 1.5153 - val_accuracy: 0.2963\n",
      "\n",
      "Epoch 00012: val_loss improved from 1.56037 to 1.51530, saving model to best_model.h5\n",
      "Epoch 13/100\n",
      "105/105 [==============================] - 0s 381us/step - loss: 1.3100 - accuracy: 0.4571 - val_loss: 1.4730 - val_accuracy: 0.3333\n",
      "\n",
      "Epoch 00013: val_loss improved from 1.51530 to 1.47299, saving model to best_model.h5\n",
      "Epoch 14/100\n",
      "105/105 [==============================] - 0s 346us/step - loss: 1.2709 - accuracy: 0.5048 - val_loss: 1.4353 - val_accuracy: 0.3704\n",
      "\n",
      "Epoch 00014: val_loss improved from 1.47299 to 1.43533, saving model to best_model.h5\n",
      "Epoch 15/100\n",
      "105/105 [==============================] - 0s 369us/step - loss: 1.2397 - accuracy: 0.5333 - val_loss: 1.4124 - val_accuracy: 0.3704\n",
      "\n",
      "Epoch 00015: val_loss improved from 1.43533 to 1.41242, saving model to best_model.h5\n",
      "Epoch 16/100\n",
      "105/105 [==============================] - 0s 446us/step - loss: 1.2085 - accuracy: 0.5810 - val_loss: 1.4017 - val_accuracy: 0.4074\n",
      "\n",
      "Epoch 00016: val_loss improved from 1.41242 to 1.40172, saving model to best_model.h5\n",
      "Epoch 17/100\n",
      "105/105 [==============================] - 0s 405us/step - loss: 1.1633 - accuracy: 0.5429 - val_loss: 1.3883 - val_accuracy: 0.4815\n",
      "\n",
      "Epoch 00017: val_loss improved from 1.40172 to 1.38833, saving model to best_model.h5\n",
      "Epoch 18/100\n",
      "105/105 [==============================] - 0s 399us/step - loss: 1.1274 - accuracy: 0.5714 - val_loss: 1.3892 - val_accuracy: 0.4815\n",
      "\n",
      "Epoch 00018: val_loss did not improve from 1.38833\n",
      "Epoch 19/100\n",
      "105/105 [==============================] - 0s 380us/step - loss: 1.0811 - accuracy: 0.6286 - val_loss: 1.3912 - val_accuracy: 0.4444\n",
      "\n",
      "Epoch 00019: val_loss did not improve from 1.38833\n",
      "Epoch 20/100\n",
      "105/105 [==============================] - 0s 393us/step - loss: 1.0417 - accuracy: 0.6095 - val_loss: 1.3713 - val_accuracy: 0.4444\n",
      "\n",
      "Epoch 00020: val_loss improved from 1.38833 to 1.37126, saving model to best_model.h5\n",
      "Epoch 21/100\n",
      "105/105 [==============================] - 0s 353us/step - loss: 1.0196 - accuracy: 0.6476 - val_loss: 1.3339 - val_accuracy: 0.4444\n",
      "\n",
      "Epoch 00021: val_loss improved from 1.37126 to 1.33391, saving model to best_model.h5\n",
      "Epoch 22/100\n",
      "105/105 [==============================] - 0s 337us/step - loss: 0.8856 - accuracy: 0.6762 - val_loss: 1.3250 - val_accuracy: 0.4815\n",
      "\n",
      "Epoch 00022: val_loss improved from 1.33391 to 1.32504, saving model to best_model.h5\n",
      "Epoch 23/100\n",
      "105/105 [==============================] - 0s 433us/step - loss: 0.8565 - accuracy: 0.7143 - val_loss: 1.2985 - val_accuracy: 0.4444\n",
      "\n",
      "Epoch 00023: val_loss improved from 1.32504 to 1.29849, saving model to best_model.h5\n",
      "Epoch 24/100\n",
      "105/105 [==============================] - 0s 360us/step - loss: 0.7968 - accuracy: 0.7810 - val_loss: 1.2454 - val_accuracy: 0.4444\n",
      "\n",
      "Epoch 00024: val_loss improved from 1.29849 to 1.24541, saving model to best_model.h5\n",
      "Epoch 25/100\n",
      "105/105 [==============================] - 0s 447us/step - loss: 0.7883 - accuracy: 0.6952 - val_loss: 1.1762 - val_accuracy: 0.5556\n",
      "\n",
      "Epoch 00025: val_loss improved from 1.24541 to 1.17624, saving model to best_model.h5\n",
      "Epoch 26/100\n",
      "105/105 [==============================] - 0s 383us/step - loss: 0.7210 - accuracy: 0.7429 - val_loss: 1.1351 - val_accuracy: 0.5556\n",
      "\n",
      "Epoch 00026: val_loss improved from 1.17624 to 1.13507, saving model to best_model.h5\n",
      "Epoch 27/100\n",
      "105/105 [==============================] - 0s 315us/step - loss: 0.6676 - accuracy: 0.7619 - val_loss: 1.0823 - val_accuracy: 0.6296\n",
      "\n",
      "Epoch 00027: val_loss improved from 1.13507 to 1.08228, saving model to best_model.h5\n",
      "Epoch 28/100\n",
      "105/105 [==============================] - 0s 313us/step - loss: 0.6088 - accuracy: 0.8381 - val_loss: 1.0578 - val_accuracy: 0.5556\n",
      "\n",
      "Epoch 00028: val_loss improved from 1.08228 to 1.05775, saving model to best_model.h5\n",
      "Epoch 29/100\n",
      "105/105 [==============================] - 0s 325us/step - loss: 0.5412 - accuracy: 0.8000 - val_loss: 1.0840 - val_accuracy: 0.5926\n",
      "\n",
      "Epoch 00029: val_loss did not improve from 1.05775\n",
      "Epoch 30/100\n",
      "105/105 [==============================] - 0s 335us/step - loss: 0.4737 - accuracy: 0.8857 - val_loss: 1.0987 - val_accuracy: 0.5926\n",
      "\n",
      "Epoch 00030: val_loss did not improve from 1.05775\n",
      "Epoch 31/100\n",
      "105/105 [==============================] - 0s 380us/step - loss: 0.4859 - accuracy: 0.8381 - val_loss: 1.0530 - val_accuracy: 0.6296\n",
      "\n",
      "Epoch 00031: val_loss improved from 1.05775 to 1.05300, saving model to best_model.h5\n",
      "Epoch 32/100\n",
      "105/105 [==============================] - 0s 334us/step - loss: 0.4053 - accuracy: 0.8952 - val_loss: 1.0200 - val_accuracy: 0.6296\n",
      "\n",
      "Epoch 00032: val_loss improved from 1.05300 to 1.02003, saving model to best_model.h5\n",
      "Epoch 33/100\n",
      "105/105 [==============================] - 0s 336us/step - loss: 0.4079 - accuracy: 0.8381 - val_loss: 1.0195 - val_accuracy: 0.5926\n",
      "\n",
      "Epoch 00033: val_loss improved from 1.02003 to 1.01953, saving model to best_model.h5\n",
      "Epoch 34/100\n",
      "105/105 [==============================] - 0s 348us/step - loss: 0.3774 - accuracy: 0.8571 - val_loss: 1.0270 - val_accuracy: 0.7037\n",
      "\n",
      "Epoch 00034: val_loss did not improve from 1.01953\n",
      "Epoch 35/100\n",
      "105/105 [==============================] - 0s 317us/step - loss: 0.3346 - accuracy: 0.9048 - val_loss: 0.9625 - val_accuracy: 0.6296\n",
      "\n",
      "Epoch 00035: val_loss improved from 1.01953 to 0.96255, saving model to best_model.h5\n",
      "Epoch 36/100\n",
      "105/105 [==============================] - 0s 319us/step - loss: 0.3404 - accuracy: 0.8762 - val_loss: 1.1564 - val_accuracy: 0.5556\n",
      "\n",
      "Epoch 00036: val_loss did not improve from 0.96255\n",
      "Epoch 37/100\n",
      "105/105 [==============================] - 0s 338us/step - loss: 0.3015 - accuracy: 0.8857 - val_loss: 1.1434 - val_accuracy: 0.5926\n",
      "\n",
      "Epoch 00037: val_loss did not improve from 0.96255\n",
      "Epoch 38/100\n"
     ]
    },
    {
     "name": "stdout",
     "output_type": "stream",
     "text": [
      "105/105 [==============================] - 0s 331us/step - loss: 0.3080 - accuracy: 0.8857 - val_loss: 1.0863 - val_accuracy: 0.5926\n",
      "\n",
      "Epoch 00038: val_loss did not improve from 0.96255\n",
      "Epoch 39/100\n",
      "105/105 [==============================] - 0s 360us/step - loss: 0.2759 - accuracy: 0.9143 - val_loss: 1.1436 - val_accuracy: 0.5926\n",
      "\n",
      "Epoch 00039: val_loss did not improve from 0.96255\n",
      "Epoch 40/100\n",
      "105/105 [==============================] - 0s 336us/step - loss: 0.3134 - accuracy: 0.8762 - val_loss: 1.0325 - val_accuracy: 0.7037\n",
      "\n",
      "Epoch 00040: val_loss did not improve from 0.96255\n",
      "Epoch 41/100\n",
      "105/105 [==============================] - 0s 310us/step - loss: 0.3190 - accuracy: 0.8952 - val_loss: 0.9414 - val_accuracy: 0.6296\n",
      "\n",
      "Epoch 00041: val_loss improved from 0.96255 to 0.94141, saving model to best_model.h5\n",
      "Epoch 42/100\n",
      "105/105 [==============================] - 0s 333us/step - loss: 0.2118 - accuracy: 0.9238 - val_loss: 1.0549 - val_accuracy: 0.6296\n",
      "\n",
      "Epoch 00042: val_loss did not improve from 0.94141\n",
      "Epoch 43/100\n",
      "105/105 [==============================] - 0s 322us/step - loss: 0.2272 - accuracy: 0.9238 - val_loss: 1.1663 - val_accuracy: 0.5926\n",
      "\n",
      "Epoch 00043: val_loss did not improve from 0.94141\n",
      "Epoch 44/100\n",
      "105/105 [==============================] - 0s 327us/step - loss: 0.1748 - accuracy: 0.9429 - val_loss: 1.3856 - val_accuracy: 0.5556\n",
      "\n",
      "Epoch 00044: val_loss did not improve from 0.94141\n"
     ]
    }
   ],
   "source": [
    "\n",
    "hist = model.fit(embedding_matrix_train,y_train,epochs = 100,batch_size=64,shuffle=True,validation_split=0.2,callbacks= cb_list)"
   ]
  },
  {
   "cell_type": "code",
   "execution_count": null,
   "metadata": {},
   "outputs": [],
   "source": []
  },
  {
   "cell_type": "code",
   "execution_count": 81,
   "metadata": {},
   "outputs": [],
   "source": [
    "pred = model.predict_classes(embedding_matrix_test)"
   ]
  },
  {
   "cell_type": "code",
   "execution_count": 83,
   "metadata": {},
   "outputs": [],
   "source": [
    "model.load_weights(\"best_model.h5\")"
   ]
  },
  {
   "cell_type": "code",
   "execution_count": 84,
   "metadata": {},
   "outputs": [
    {
     "name": "stdout",
     "output_type": "stream",
     "text": [
      "56/56 [==============================] - 0s 204us/step\n"
     ]
    },
    {
     "data": {
      "text/plain": [
       "[1.3668543355805534, 0.6428571343421936]"
      ]
     },
     "execution_count": 84,
     "metadata": {},
     "output_type": "execute_result"
    }
   ],
   "source": [
    "model.evaluate(embedding_matrix_test,y_test)"
   ]
  },
  {
   "cell_type": "code",
   "execution_count": null,
   "metadata": {},
   "outputs": [],
   "source": []
  },
  {
   "cell_type": "markdown",
   "metadata": {},
   "source": [
    "## Get Predictions"
   ]
  },
  {
   "cell_type": "code",
   "execution_count": 87,
   "metadata": {},
   "outputs": [
    {
     "name": "stdout",
     "output_type": "stream",
     "text": [
      "I want to eat\n",
      "🍴\n",
      "🍴\n",
      "he did not answer\n",
      "😞\n",
      "😞\n",
      "he got a raise\n",
      "😃\n",
      "😞\n",
      "she got me a present\n",
      "❤️\n",
      "😞\n",
      "ha ha ha it was so funny\n",
      "😃\n",
      "😃\n",
      "he is a good friend\n",
      "❤️\n",
      "😃\n",
      "I am upset\n",
      "❤️\n",
      "😞\n",
      "We had such a lovely dinner tonight\n",
      "❤️\n",
      "😃\n",
      "where is the food\n",
      "🍴\n",
      "🍴\n",
      "Stop making this joke ha ha ha\n",
      "😃\n",
      "😃\n",
      "where is the ball\n",
      "⚾\n",
      "⚾\n",
      "work is hard\n",
      "😞\n",
      "😃\n",
      "This girl is messing with me\n",
      "😞\n",
      "❤️\n",
      "are you serious ha ha\n",
      "😃\n",
      "😞\n",
      "Let us go play baseball\n",
      "⚾\n",
      "⚾\n",
      "This stupid grader is not working\n",
      "😞\n",
      "😞\n",
      "work is horrible\n",
      "😞\n",
      "😞\n",
      "Congratulation for having a baby\n",
      "😃\n",
      "😃\n",
      "stop messing around\n",
      "😞\n",
      "😞\n",
      "any suggestions for dinner\n",
      "🍴\n",
      "🍴\n",
      "I love taking breaks\n",
      "❤️\n",
      "❤️\n",
      "you brighten my day\n",
      "😃\n",
      "😞\n",
      "I boiled rice\n",
      "🍴\n",
      "🍴\n",
      "she is a bully\n",
      "😞\n",
      "❤️\n",
      "Why are you feeling bad\n",
      "😞\n",
      "😞\n",
      "I am upset\n",
      "😞\n",
      "😞\n",
      "I worked during my birthday\n",
      "😞\n",
      "😃\n",
      "My grandmother is the love of my life\n",
      "❤️\n",
      "❤️\n",
      "enjoy your break\n",
      "😃\n",
      "❤️\n",
      "valentine day is near\n",
      "❤️\n",
      "😃\n"
     ]
    }
   ],
   "source": [
    "for i in range(30):\n",
    "    print((' ').join(x_test[i]))\n",
    "    print(emoji.emojize(emoji_dictionary[str(np.argmax(y_test[i]))]))\n",
    "    print(emoji.emojize(emoji_dictionary[str(pred[i])]))"
   ]
  },
  {
   "cell_type": "code",
   "execution_count": null,
   "metadata": {},
   "outputs": [],
   "source": []
  }
 ],
 "metadata": {
  "kernelspec": {
   "display_name": "Python 3",
   "language": "python",
   "name": "python3"
  },
  "language_info": {
   "codemirror_mode": {
    "name": "ipython",
    "version": 3
   },
   "file_extension": ".py",
   "mimetype": "text/x-python",
   "name": "python",
   "nbconvert_exporter": "python",
   "pygments_lexer": "ipython3",
   "version": "3.7.3"
  }
 },
 "nbformat": 4,
 "nbformat_minor": 4
}
